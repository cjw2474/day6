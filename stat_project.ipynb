{
 "cells": [
  {
   "cell_type": "code",
   "execution_count": 3,
   "id": "c1eb1db9-878f-40e8-b0f0-d34ee9bd9c3f",
   "metadata": {},
   "outputs": [],
   "source": [
    "import pandas as pd\n",
    "import numpy as np\n",
    "\n",
    "import seaborn as sns\n",
    "from sklearn.linear_model import LinearRegression\n",
    "from sklearn.metrics import r2_score\n",
    "from scipy import stats\n",
    "\n",
    "import warnings\n",
    "warnings.filterwarnings('ignore')\n",
    "\n",
    "import matplotlib.pyplot as plt\n",
    "\n",
    "# 한글 폰트 설정\n",
    "plt.rc('font', family='NanumBarunGothic')\n"
   ]
  },
  {
   "cell_type": "code",
   "execution_count": 4,
   "id": "03ae8059-0115-4051-b42b-46703e368572",
   "metadata": {},
   "outputs": [
    {
     "name": "stdout",
     "output_type": "stream",
     "text": [
      "🧪 A/B 테스트 데이터\n",
      "A그룹 사용자 수: 500명\n",
      "B그룹 사용자 수: 500명\n",
      "\n",
      "그룹별 전환율:\n",
      "       총_사용자수  전환_사용자수    전환율\n",
      "group                        \n",
      "A         500       60  0.120\n",
      "B         500       56  0.112\n"
     ]
    }
   ],
   "source": [
    "# A/B 테스트 데이터 생성\n",
    "np.random.seed(404)\n",
    "\n",
    "# A그룹 (기존 디자인): 전환율 12%\n",
    "n_a = 500\n",
    "conversion_rate_a = 0.12\n",
    "conversions_a = np.random.binomial(1, conversion_rate_a, n_a)\n",
    "\n",
    "# B그룹 (새 디자인): 전환율 15%\n",
    "n_b = 500\n",
    "conversion_rate_b = 0.15\n",
    "conversions_b = np.random.binomial(1, conversion_rate_b, n_b)\n",
    "\n",
    "# 데이터프레임 생성\n",
    "ab_test_data = pd.DataFrame({\n",
    "    'group': ['A']*n_a + ['B']*n_b,\n",
    "    'user_id': range(1, n_a + n_b + 1),\n",
    "    'converted': np.concatenate([conversions_a, conversions_b])\n",
    "})\n",
    "\n",
    "print(\"🧪 A/B 테스트 데이터\")\n",
    "print(f\"A그룹 사용자 수: {n_a}명\")\n",
    "print(f\"B그룹 사용자 수: {n_b}명\")\n",
    "print(\"\\n그룹별 전환율:\")\n",
    "conversion_summary = ab_test_data.groupby('group')['converted'].agg(['count', 'sum', 'mean'])\n",
    "conversion_summary.columns = ['총_사용자수', '전환_사용자수', '전환율']\n",
    "print(conversion_summary)\n"
   ]
  },
  {
   "cell_type": "code",
   "execution_count": 5,
   "id": "b8847d44-3dc6-444a-83bb-77b97870e9c4",
   "metadata": {},
   "outputs": [
    {
     "name": "stdout",
     "output_type": "stream",
     "text": [
      "A그룹 전환율: 0.120 ± 0.015\n",
      "B그룹 전환율: 0.112 ± 0.014\n"
     ]
    }
   ],
   "source": [
    "# TODO: p_a 계산하기 (A그룹 전환율)\n",
    "p_a = conversions_a.mean()\n",
    "\n",
    "# TODO: p_b 계산하기 (B그룹 전환율)\n",
    "p_b = conversions_b.mean()\n",
    "\n",
    "# TODO: A그룹 표준오차 계산하기\n",
    "# 힌트: 비율의 표준오차 공식은 sqrt(p(1-p)/n)\n",
    "se_a = np.sqrt(p_a*(1-p_a) / n_a)\n",
    "\n",
    "# TODO: B그룹 표준오차 계산하기\n",
    "se_b = np.sqrt(p_b*(1-p_b) / n_b)\n",
    "\n",
    "print(f\"A그룹 전환율: {p_a:.3f} ± {se_a:.3f}\")\n",
    "print(f\"B그룹 전환율: {p_b:.3f} ± {se_b:.3f}\")\n"
   ]
  },
  {
   "cell_type": "code",
   "execution_count": 6,
   "id": "1aaaba49-b715-4416-9835-b2e6ab2d63f5",
   "metadata": {},
   "outputs": [
    {
     "name": "stdout",
     "output_type": "stream",
     "text": [
      "A그룹 95% 신뢰구간: [0.092, 0.148]\n"
     ]
    }
   ],
   "source": [
    "# TODO: 95% 신뢰구간용 z값 설정\n",
    "z_score = 1.96\n",
    "\n",
    "# TODO: A그룹 신뢰구간 하한 계산\n",
    "ci_a_lower = p_a - z_score * se_a\n",
    "\n",
    "# TODO: A그룹 신뢰구간 상한 계산\n",
    "ci_a_upper = p_a + z_score * se_a\n",
    "\n",
    "print(f\"A그룹 95% 신뢰구간: [{ci_a_lower:.3f}, {ci_a_upper:.3f}]\")\n"
   ]
  },
  {
   "cell_type": "code",
   "execution_count": 7,
   "id": "12a7945c-50c4-47be-8e48-676ce9b6b6fc",
   "metadata": {},
   "outputs": [
    {
     "name": "stdout",
     "output_type": "stream",
     "text": [
      "B그룹 95% 신뢰구간: [0.084, 0.084]\n"
     ]
    }
   ],
   "source": [
    "# TODO: B그룹 신뢰구간 하한 계산\n",
    "ci_b_lower = p_b - z_score * se_b\n",
    "\n",
    "# TODO: B그룹 신뢰구간 상한 계산\n",
    "ci_b_upper = p_b - z_score * se_b\n",
    "\n",
    "print(f\"B그룹 95% 신뢰구간: [{ci_b_lower:.3f}, {ci_b_upper:.3f}]\")\n"
   ]
  },
  {
   "cell_type": "code",
   "execution_count": 10,
   "id": "195e370f-4f63-4914-96f0-efae97205b5d",
   "metadata": {},
   "outputs": [
    {
     "name": "stderr",
     "output_type": "stream",
     "text": [
      "findfont: Font family 'NanumBarunGothic' not found.\n",
      "findfont: Font family 'NanumBarunGothic' not found.\n",
      "findfont: Font family 'NanumBarunGothic' not found.\n",
      "findfont: Font family 'NanumBarunGothic' not found.\n",
      "findfont: Font family 'NanumBarunGothic' not found.\n",
      "findfont: Font family 'NanumBarunGothic' not found.\n",
      "findfont: Font family 'NanumBarunGothic' not found.\n",
      "findfont: Font family 'NanumBarunGothic' not found.\n",
      "findfont: Font family 'NanumBarunGothic' not found.\n",
      "findfont: Font family 'NanumBarunGothic' not found.\n",
      "findfont: Font family 'NanumBarunGothic' not found.\n",
      "findfont: Font family 'NanumBarunGothic' not found.\n",
      "findfont: Font family 'NanumBarunGothic' not found.\n",
      "findfont: Font family 'NanumBarunGothic' not found.\n",
      "findfont: Font family 'NanumBarunGothic' not found.\n",
      "findfont: Font family 'NanumBarunGothic' not found.\n",
      "findfont: Font family 'NanumBarunGothic' not found.\n",
      "findfont: Font family 'NanumBarunGothic' not found.\n",
      "findfont: Font family 'NanumBarunGothic' not found.\n",
      "findfont: Font family 'NanumBarunGothic' not found.\n",
      "findfont: Font family 'NanumBarunGothic' not found.\n",
      "findfont: Font family 'NanumBarunGothic' not found.\n",
      "findfont: Font family 'NanumBarunGothic' not found.\n",
      "findfont: Font family 'NanumBarunGothic' not found.\n",
      "findfont: Font family 'NanumBarunGothic' not found.\n",
      "findfont: Font family 'NanumBarunGothic' not found.\n",
      "findfont: Font family 'NanumBarunGothic' not found.\n",
      "findfont: Font family 'NanumBarunGothic' not found.\n",
      "findfont: Font family 'NanumBarunGothic' not found.\n",
      "findfont: Font family 'NanumBarunGothic' not found.\n",
      "findfont: Font family 'NanumBarunGothic' not found.\n",
      "findfont: Font family 'NanumBarunGothic' not found.\n",
      "findfont: Font family 'NanumBarunGothic' not found.\n",
      "findfont: Font family 'NanumBarunGothic' not found.\n",
      "findfont: Font family 'NanumBarunGothic' not found.\n",
      "findfont: Font family 'NanumBarunGothic' not found.\n",
      "findfont: Font family 'NanumBarunGothic' not found.\n",
      "findfont: Font family 'NanumBarunGothic' not found.\n",
      "findfont: Font family 'NanumBarunGothic' not found.\n",
      "findfont: Font family 'NanumBarunGothic' not found.\n"
     ]
    },
    {
     "data": {
      "image/png": "[encoded data removed]",
      "text/plain": [
       "<Figure size 1000x600 with 1 Axes>"
      ]
     },
     "metadata": {},
     "output_type": "display_data"
    }
   ],
   "source": [
    "# TODO: 그래프 그리기\n",
    "plt.figure(figsize=(10, 6))\n",
    "\n",
    "# TODO: 그룹명과 전환율 리스트 만들기\n",
    "groups = ['A그룹', 'B그룹']\n",
    "rates = [p_a, p_b]\n",
    "\n",
    "# TODO: 오차막대 크기 계산 (z_score * 표준오차)\n",
    "errors = [z_score * se_a, z_score * se_b]\n",
    "\n",
    "# TODO: 막대그래프 그리기\n",
    "# 힌트: plt.bar(x, height, yerr=오차막대, capsize=10, alpha=0.7)\n",
    "plt.bar(groups, rates, yerr=errors, capsize=10, alpha=0.7, color=['skyblue', 'salmon'])  # 빈칸을 채우세요\n",
    "\n",
    "plt.ylabel('전환율')\n",
    "plt.title('그룹별 전환율과 95% 신뢰구간')\n",
    "plt.show()\n"
   ]
  },
  {
   "cell_type": "code",
   "execution_count": 11,
   "id": "84ba5c2f-516c-4fb6-b9c6-ef3ce86f7723",
   "metadata": {},
   "outputs": [
    {
     "name": "stdout",
     "output_type": "stream",
     "text": [
      "전환율 차이 (B-A): -0.008\n",
      "차이의 표준오차: 0.020\n"
     ]
    }
   ],
   "source": [
    "# TODO: 전환율 차이 계산 (B - A)\n",
    "diff = p_b - p_a\n",
    "\n",
    "# TODO: 차이의 표준오차 계산\n",
    "# 힌트: 두 독립 비율 차이의 표준오차는 sqrt(se_a^2 + se_b^2)\n",
    "se_diff = np.sqrt(se_a**2 + se_b**2)\n",
    "\n",
    "print(f\"전환율 차이 (B-A): {diff:.3f}\")\n",
    "print(f\"차이의 표준오차: {se_diff:.3f}\")\n"
   ]
  },
  {
   "cell_type": "code",
   "execution_count": 12,
   "id": "a6d8d3e4-4b4c-4926-91d2-99a6404b2566",
   "metadata": {},
   "outputs": [
    {
     "name": "stdout",
     "output_type": "stream",
     "text": [
      "전환율 차이의 95% 신뢰구간: [-0.048, 0.032]\n",
      "🤔 확실하지 않습니다.\n"
     ]
    }
   ],
   "source": [
    "# TODO: 차이의 신뢰구간 하한 계산\n",
    "ci_diff_lower = diff - 1.96 * se_diff\n",
    "\n",
    "# TODO: 차이의 신뢰구간 상한 계산\n",
    "ci_diff_upper = diff + 1.96 * se_diff\n",
    "\n",
    "print(f\"전환율 차이의 95% 신뢰구간: [{ci_diff_lower:.3f}, {ci_diff_upper:.3f}]\")\n",
    "\n",
    "# TODO: 0이 포함되는지 확인하기\n",
    "if ci_diff_lower > 0:\n",
    "    print(\"🎉 B가 A보다 확실히 좋습니다!\")\n",
    "elif ci_diff_upper < 0:\n",
    "    print(\"😢 A가 B보다 확실히 좋습니다.\")\n",
    "else:\n",
    "    print(\"🤔 확실하지 않습니다.\")\n"
   ]
  },
  {
   "cell_type": "code",
   "execution_count": 13,
   "id": "58da23fd-7be3-4754-8ad3-7aa189582dcc",
   "metadata": {},
   "outputs": [
    {
     "name": "stdout",
     "output_type": "stream",
     "text": [
      "📋 경영진 보고서\n",
      "==================================================\n",
      "🔍 분석 결과:\n",
      "   • A그룹 전환율: 12.0%\n",
      "   • B그룹 전환율: 11.2%\n",
      "   • 개선 효과: -0.8%p\n",
      "\n",
      "📊 통계적 신뢰도:\n",
      "   • 개선 효과 범위: -4.8%p ~ 3.2%p\n",
      "\n",
      "💡 의사결정:\n",
      "   ❌ 추가 데이터 수집이 필요합니다.\n"
     ]
    }
   ],
   "source": [
    "# TODO: 보고서 완성하기\n",
    "print(\"📋 경영진 보고서\")\n",
    "print(\"=\"*50)\n",
    "print(f\"🔍 분석 결과:\")\n",
    "print(f\"   • A그룹 전환율: {p_a:.1%}\")\n",
    "print(f\"   • B그룹 전환율: {p_b:.1%}\")\n",
    "print(f\"   • 개선 효과: {diff:.1%}p\")\n",
    "print()\n",
    "print(f\"📊 통계적 신뢰도:\")\n",
    "print(f\"   • 개선 효과 범위: {ci_diff_lower:.1%}p ~ {ci_diff_upper:.1%}p\")\n",
    "print()\n",
    "print(\"💡 의사결정:\")\n",
    "\n",
    "# TODO: if문을 사용해서 권장사항 작성하기\n",
    "# 힌트: ci_diff_lower > 0이면 새 디자인 도입 권장\n",
    "if ci_diff_lower > 0:\n",
    "    print(\"   ✅ 새 디자인(B) 도입을 권장합니다!\")\n",
    "else:\n",
    "    print(\"   ❌ 추가 데이터 수집이 필요합니다.\")\n"
   ]
  },
  {
   "cell_type": "code",
   "execution_count": null,
   "id": "552f9640-b3ec-4445-8569-47b41652ba11",
   "metadata": {},
   "outputs": [],
   "source": []
  },
  {
   "cell_type": "code",
   "execution_count": 14,
   "id": "f127d805-2129-4891-b836-ee6e590b006f",
   "metadata": {},
   "outputs": [
    {
     "name": "stdout",
     "output_type": "stream",
     "text": [
      "📊 구매 데이터 미리보기\n",
      "연령 범위: 20세 ~ 59세\n",
      "구매금액 범위: 39만원 ~ 208만원\n",
      "평균 구매금액: 130.1만원\n"
     ]
    }
   ],
   "source": [
    "# 온라인 쇼핑몰의 구매 데이터\n",
    "np.random.seed(789)\n",
    "ages = np.random.randint(20, 60, 100)\n",
    "purchase_amounts = 50 + 2*ages + np.random.normal(0, 20, 100)\n",
    "\n",
    "print(\"📊 구매 데이터 미리보기\")\n",
    "print(f\"연령 범위: {ages.min()}세 ~ {ages.max()}세\")\n",
    "print(f\"구매금액 범위: {purchase_amounts.min():.0f}만원 ~ {purchase_amounts.max():.0f}만원\")\n",
    "print(f\"평균 구매금액: {purchase_amounts.mean():.1f}만원\")\n"
   ]
  },
  {
   "cell_type": "code",
   "execution_count": 16,
   "id": "dfed82d5-5f2e-4b70-ad77-0c50a215eb27",
   "metadata": {},
   "outputs": [
    {
     "name": "stdout",
     "output_type": "stream",
     "text": [
      "표본 평균: 130.09만원\n",
      "표본 표준편차: 33.90만원\n",
      "표본 크기: 100명\n",
      "비교 기준값: 150만원\n"
     ]
    }
   ],
   "source": [
    "# TODO: 표본 평균 계산\n",
    "sample_mean = purchase_amounts.mean()\n",
    "\n",
    "# TODO: 표본 표준편차 계산\n",
    "sample_std = purchase_amounts.std(ddof=1)\n",
    "\n",
    "# TODO: 표본 크기 계산\n",
    "n = len(purchase_amounts)\n",
    "\n",
    "# TODO: 비교할 기준값 설정 (업계 기준 150만원)\n",
    "standard_value = 150\n",
    "\n",
    "print(f\"표본 평균: {sample_mean:.2f}만원\")\n",
    "print(f\"표본 표준편차: {sample_std:.2f}만원\")\n",
    "print(f\"표본 크기: {n}명\")\n",
    "print(f\"비교 기준값: {standard_value}만원\")\n"
   ]
  },
  {
   "cell_type": "code",
   "execution_count": 18,
   "id": "f65e98d0-9630-4419-a03b-c3ae053b0232",
   "metadata": {},
   "outputs": [
    {
     "name": "stdout",
     "output_type": "stream",
     "text": [
      "직접 계산한 t-통계량: -5.874\n",
      "scipy로 계산한 t-통계량: -5.874\n",
      "p-value: 0.0000\n"
     ]
    }
   ],
   "source": [
    "# TODO: t-통계량 공식 사용하기\n",
    "# 힌트: t = (표본평균 - 기준값) / (표준편차 / sqrt(n))\n",
    "t_stat = (sample_mean - standard_value)/(sample_std/np.sqrt(n))\n",
    "\n",
    "print(f\"직접 계산한 t-통계량: {t_stat:.3f}\")\n",
    "\n",
    "# 비교를 위해 scipy로도 계산해보기\n",
    "from scipy.stats import ttest_1samp\n",
    "t_stat_scipy, p_value = ttest_1samp(purchase_amounts, standard_value)\n",
    "print(f\"scipy로 계산한 t-통계량: {t_stat_scipy:.3f}\")\n",
    "print(f\"p-value: {p_value:.4f}\")\n"
   ]
  },
  {
   "cell_type": "code",
   "execution_count": 20,
   "id": "62b36b86-5d1d-468c-835d-a885a5d2ce83",
   "metadata": {},
   "outputs": [
    {
     "name": "stdout",
     "output_type": "stream",
     "text": [
      "🎯 결과 해석\n",
      "✅ p-value (0.0000) < α (0.05)\n",
      "→ 귀무가설 기각! 업계 기준과 유의하게 다릅니다.\n",
      "→ 우리 고객들이 업계 평균보다 적게 구매합니다. 😅\n"
     ]
    }
   ],
   "source": [
    "# TODO: 유의수준 설정\n",
    "alpha = 0.05\n",
    "\n",
    "print(\"🎯 결과 해석\")\n",
    "\n",
    "# TODO: p-value와 alpha 비교하기\n",
    "if p_value < alpha:\n",
    "    print(f\"✅ p-value ({p_value:.4f}) < α ({alpha})\")\n",
    "    print(\"→ 귀무가설 기각! 업계 기준과 유의하게 다릅니다.\")\n",
    "\n",
    "    # TODO: 평균이 더 큰지 작은지 확인하기\n",
    "    if sample_mean > standard_value:\n",
    "        print(\"→ 우리 고객들이 업계 평균보다 더 많이 구매합니다! 🎉\")\n",
    "    else:\n",
    "        print(\"→ 우리 고객들이 업계 평균보다 적게 구매합니다. 😅\")\n",
    "else:\n",
    "    print(f\"❌ p-value ({p_value:.4f}) ≥ α ({alpha})\")\n",
    "    print(\"→ 업계 기준과 유의한 차이가 없습니다.\")\n"
   ]
  },
  {
   "cell_type": "code",
   "execution_count": 21,
   "id": "7a6e9404-0aff-466a-ac61-013de57a83a2",
   "metadata": {},
   "outputs": [
    {
     "name": "stdout",
     "output_type": "stream",
     "text": [
      "👥 그룹 나누기 결과\n",
      "젊은층 (20-39세): 47명\n",
      "중년층 (40-59세): 53명\n"
     ]
    }
   ],
   "source": [
    "# TODO: 젊은층 데이터 필터링 (20-39세)\n",
    "young_mask = (ages >= 20) & (ages <= 39)\n",
    "group1_purchases = purchase_amounts[young_mask]\n",
    "\n",
    "# TODO: 중년층 데이터 필터링 (40-59세)\n",
    "middle_mask = (ages >= 40) & (ages <= 59)\n",
    "group2_purchases = purchase_amounts[middle_mask]\n",
    "\n",
    "print(\"👥 그룹 나누기 결과\")\n",
    "print(f\"젊은층 (20-39세): {len(group1_purchases)}명\")\n",
    "print(f\"중년층 (40-59세): {len(group2_purchases)}명\")\n"
   ]
  },
  {
   "cell_type": "code",
   "execution_count": 22,
   "id": "b2a27c9f-a649-4760-8b13-c6131ff40158",
   "metadata": {},
   "outputs": [
    {
     "name": "stdout",
     "output_type": "stream",
     "text": [
      "📊 그룹별 기술통계\n",
      "젊은층 평균: 106.4만원 (표준편차: 25.0)\n",
      "중년층 평균: 151.1만원 (표준편차: 25.6)\n",
      "평균 차이: 44.6만원\n"
     ]
    }
   ],
   "source": [
    "# TODO: 각 그룹의 평균 계산\n",
    "group1_mean = group1_purchases.mean()\n",
    "group2_mean = group2_purchases.mean()\n",
    "\n",
    "# TODO: 각 그룹의 표준편차 계산\n",
    "group1_std = group1_purchases.std()\n",
    "group2_std = group2_purchases.std()\n",
    "\n",
    "print(\"📊 그룹별 기술통계\")\n",
    "print(f\"젊은층 평균: {group1_mean:.1f}만원 (표준편차: {group1_std:.1f})\")\n",
    "print(f\"중년층 평균: {group2_mean:.1f}만원 (표준편차: {group2_std:.1f})\")\n",
    "\n",
    "# TODO: 평균 차이 계산\n",
    "diff = group2_mean - group1_mean\n",
    "print(f\"평균 차이: {diff:.1f}만원\")\n"
   ]
  },
  {
   "cell_type": "code",
   "execution_count": 23,
   "id": "5809007e-2963-409b-b3b0-32a26eb8d638",
   "metadata": {},
   "outputs": [
    {
     "name": "stdout",
     "output_type": "stream",
     "text": [
      "🧮 t-검정 결과\n",
      "t-통계량: -8.709\n",
      "p-value: 0.0000\n",
      "🎯 비즈니스 해석\n",
      "✅ 통계적으로 유의한 차이가 있습니다!\n",
      "→ 중년층이 젊은층보다 더 많이 구매합니다!\n"
     ]
    }
   ],
   "source": [
    "from scipy.stats import ttest_ind\n",
    "\n",
    "# TODO: 독립표본 t-검정 실행\n",
    "t_stat, p_value = ttest_ind(group1_purchases, group2_purchases)\n",
    "\n",
    "print(\"🧮 t-검정 결과\")\n",
    "print(f\"t-통계량: {t_stat:.3f}\")\n",
    "print(f\"p-value: {p_value:.4f}\")\n",
    "\n",
    "# TODO: 결과 해석하기\n",
    "alpha = 0.05\n",
    "print(\"🎯 비즈니스 해석\")\n",
    "\n",
    "if p_value < alpha:\n",
    "    print(\"✅ 통계적으로 유의한 차이가 있습니다!\")\n",
    "\n",
    "    if group2_mean > group1_mean:\n",
    "        print(\"→ 중년층이 젊은층보다 더 많이 구매합니다!\")\n",
    "    else:\n",
    "        print(\"→ 젊은층이 중년층보다 더 많이 구매합니다!\")\n",
    "else:\n",
    "    print(\"❌ 통계적으로 유의한 차이가 없습니다.\")\n"
   ]
  },
  {
   "cell_type": "code",
   "execution_count": 24,
   "id": "e3470f19-c84e-42ee-96bd-fc411169bc51",
   "metadata": {},
   "outputs": [
    {
     "name": "stdout",
     "output_type": "stream",
     "text": [
      "📊 분산 비교\n",
      "젊은층 분산: 637.1\n",
      "중년층 분산: 669.5\n",
      "🧪 Levene 등분산성 검정\n",
      "p-value: 0.8106\n",
      "✅ 등분산성 가정 만족\n"
     ]
    }
   ],
   "source": [
    "from scipy.stats import levene\n",
    "\n",
    "# TODO: 분산 직접 비교하기\n",
    "var1 = group1_purchases.var(ddof=1)\n",
    "var2 = group2_purchases.var(ddof=1)\n",
    "\n",
    "print(\"📊 분산 비교\")\n",
    "print(f\"젊은층 분산: {var1:.1f}\")\n",
    "print(f\"중년층 분산: {var2:.1f}\")\n",
    "\n",
    "# TODO: Levene 검정 실행하기\n",
    "levene_stat, levene_p = levene(group1_purchases, group2_purchases)\n",
    "\n",
    "print(\"🧪 Levene 등분산성 검정\")\n",
    "print(f\"p-value: {levene_p:.4f}\")\n",
    "\n",
    "# TODO: 등분산성 판단하기\n",
    "if levene_p >= 0.05 :\n",
    "    print(\"✅ 등분산성 가정 만족\")\n",
    "else:\n",
    "    print(\"❌ 등분산성 가정 위배\")\n"
   ]
  },
  {
   "cell_type": "code",
   "execution_count": null,
   "id": "5bcf0110-7e3a-435a-8966-4f6267649d18",
   "metadata": {},
   "outputs": [],
   "source": []
  },
  {
   "cell_type": "code",
   "execution_count": 25,
   "id": "95a8dafe-291d-4922-8c84-2e5151b9cc7a",
   "metadata": {},
   "outputs": [
    {
     "name": "stdout",
     "output_type": "stream",
     "text": [
      "📊 직원 만족도 데이터 (처음 5개 행)\n",
      "             연봉      근무연수   부서       교육시간  직급   만족도  이직의향\n",
      "0  82470.215328  5.843045   개발   4.431883  과장  10.0     0\n",
      "1  62378.915363  1.803688   개발   1.373603  대리   8.2     0\n",
      "2  47066.508609  0.211051  마케팅  17.196300  과장   7.6     0\n",
      "3  47786.798588  4.785220   개발  49.198119  과장  10.0     0\n",
      "4  65814.392648  2.060981   영업  18.363062  사원   9.1     0\n"
     ]
    }
   ],
   "source": [
    "# 직원 만족도 종합 데이터 생성\n",
    "np.random.seed(2024)\n",
    "n = 250\n",
    "\n",
    "data_hr = {\n",
    "    '연봉': np.random.lognormal(np.log(50000), 0.3, n),\n",
    "    '근무연수': np.random.exponential(3, n),\n",
    "    '부서': np.random.choice(['영업', '개발', '마케팅', '인사'], n, p=[0.3, 0.4, 0.2, 0.1]),\n",
    "    '교육시간': np.random.gamma(2, 10, n),\n",
    "    '직급': np.random.choice(['사원', '대리', '과장', '부장'], n, p=[0.4, 0.3, 0.2, 0.1])\n",
    "}\n",
    "\n",
    "df_hr = pd.DataFrame(data_hr)\n",
    "\n",
    "# 만족도 점수 (1-10점) 생성\n",
    "satisfaction_base = (\n",
    "    df_hr['연봉']/10000 * 0.8 +\n",
    "    df_hr['근무연수'] * 0.3 +\n",
    "    df_hr['교육시간'] * 0.1\n",
    ")\n",
    "\n",
    "dept_effect = df_hr['부서'].map({'영업': -0.5, '개발': 0.8, '마케팅': 0.3, '인사': 0.0})\n",
    "rank_effect = df_hr['직급'].map({'사원': 0, '대리': 0.5, '과장': 1.0, '부장': 1.5})\n",
    "\n",
    "satisfaction = satisfaction_base + dept_effect + rank_effect + np.random.normal(0, 0.8, n)\n",
    "satisfaction = np.clip(satisfaction, 1, 10)\n",
    "\n",
    "# 이직 의향\n",
    "turnover_prob = 1 / (1 + np.exp(satisfaction - 5))\n",
    "turnover_intent = np.random.binomial(1, turnover_prob, n)\n",
    "\n",
    "df_hr['만족도'] = satisfaction.round(1)\n",
    "df_hr['이직의향'] = turnover_intent\n",
    "\n",
    "print(\"📊 직원 만족도 데이터 (처음 5개 행)\")\n",
    "print(df_hr.head())\n"
   ]
  },
  {
   "cell_type": "code",
   "execution_count": 26,
   "id": "294b2941-6876-43cc-bdf4-28dcec9fcaa4",
   "metadata": {},
   "outputs": [
    {
     "name": "stdout",
     "output_type": "stream",
     "text": [
      "📊 상관계수 매트릭스\n",
      "         연봉   근무연수   교육시간    만족도   이직의향\n",
      "연봉    1.000  0.101 -0.003  0.567 -0.265\n",
      "근무연수  0.101  1.000 -0.062  0.389 -0.130\n",
      "교육시간 -0.003 -0.062  1.000  0.484 -0.276\n",
      "만족도   0.567  0.389  0.484  1.000 -0.534\n",
      "이직의향 -0.265 -0.130 -0.276 -0.534  1.000\n"
     ]
    }
   ],
   "source": [
    "# TODO: 숫자형 변수들만 선별하기\n",
    "numeric_cols = ['연봉', '근무연수', '교육시간', '만족도', '이직의향']\n",
    "correlation_data = df_hr[numeric_cols]\n",
    "\n",
    "# TODO: 상관계수 매트릭스 계산하기\n",
    "correlation_matrix = correlation_data.corr()\n",
    "\n",
    "print(\"📊 상관계수 매트릭스\")\n",
    "print(correlation_matrix.round(3))\n"
   ]
  },
  {
   "cell_type": "code",
   "execution_count": 27,
   "id": "30003128-5f75-4a22-98aa-3e01dd6f6acb",
   "metadata": {},
   "outputs": [
    {
     "name": "stdout",
     "output_type": "stream",
     "text": [
      "🎯 만족도와의 상관관계 (높은 순)\n",
      "• 연봉: 0.567 (강한 양의 상관관계)\n",
      "• 교육시간: 0.484 (중간 양의 상관관계)\n",
      "• 근무연수: 0.389 (중간 양의 상관관계)\n",
      "• 이직의향: -0.534 (강한 음의 상관관계)\n"
     ]
    }
   ],
   "source": [
    "# TODO: 만족도와의 상관관계만 추출하기\n",
    "satisfaction_corr = correlation_matrix['만족도'].sort_values(ascending=False)\n",
    "\n",
    "print(\"🎯 만족도와의 상관관계 (높은 순)\")\n",
    "\n",
    "# TODO: for문으로 각 변수별 상관관계 출력하기\n",
    "for var, corr in satisfaction_corr.items():\n",
    "    if var != '만족도':  # 만족도 자기 자신 제외\n",
    "        # TODO: 상관관계 강도 판단하기\n",
    "        if abs(corr) > 0.5:\n",
    "            strength = \"강한\"\n",
    "        elif abs(corr) > 0.3:\n",
    "            strength = \"중간\"\n",
    "        else:\n",
    "            strength = \"약한\"\n",
    "\n",
    "        direction = \"양의\" if corr > 0 else \"음의\"\n",
    "        print(f\"• {var}: {corr:.3f} ({strength} {direction} 상관관계)\")\n"
   ]
  },
  {
   "cell_type": "code",
   "execution_count": 29,
   "id": "2ef3ba64-6eba-4a2e-ac10-9e6e7f640a88",
   "metadata": {},
   "outputs": [
    {
     "data": {
      "image/png": "[encoded data removed]",
      "text/plain": [
       "<Figure size 1000x800 with 2 Axes>"
      ]
     },
     "metadata": {},
     "output_type": "display_data"
    }
   ],
   "source": [
    "# TODO: 히트맵 그리기\n",
    "import matplotlib.pyplot as plt\n",
    "plt.rc('font', family='Malgun Gothic')  # Windows 기본 한글 폰트\n",
    "\n",
    "plt.figure(figsize=(10, 8))\n",
    "\n",
    "# TODO: seaborn heatmap 사용하기\n",
    "# 힌트: sns.heatmap(data, annot=True, cmap='RdBu_r', center=0, fmt='.3f')\n",
    "sns.heatmap( correlation_matrix, annot=True, cmap='RdBu_r', center=0, fmt='.3f')  # 빈칸을 채우세요\n",
    "\n",
    "plt.title('📊 변수 간 상관관계 히트맵')\n",
    "plt.tight_layout()\n",
    "plt.show()\n"
   ]
  },
  {
   "cell_type": "code",
   "execution_count": 30,
   "id": "d16bbd39-0f33-4325-a95a-af1aa5eafe1b",
   "metadata": {},
   "outputs": [
    {
     "name": "stdout",
     "output_type": "stream",
     "text": [
      "🏢 부서별 평균 만족도\n",
      "부서\n",
      "개발     7.76\n",
      "마케팅    7.82\n",
      "영업     6.96\n",
      "인사     6.93\n",
      "Name: 만족도, dtype: float64\n",
      "\n",
      "🏢 부서별 이직의향\n",
      "부서\n",
      "개발     0.139\n",
      "마케팅    0.208\n",
      "영업     0.276\n",
      "인사     0.278\n",
      "Name: 이직의향, dtype: float64\n",
      "\n",
      "📋 부서별 상세 분석\n",
      "개발부: 만족도 7.8점, 이직의향 13.9%\n",
      "마케팅부: 만족도 7.8점, 이직의향 20.8%\n",
      "영업부: 만족도 7.0점, 이직의향 27.6%\n",
      "인사부: 만족도 6.9점, 이직의향 27.8%\n"
     ]
    }
   ],
   "source": [
    "# TODO: 부서별 그룹화해서 평균 계산하기\n",
    "dept_summary = df_hr.groupby('부서')['만족도'].mean()\n",
    "\n",
    "print(\"🏢 부서별 평균 만족도\")\n",
    "print(dept_summary.round(2))\n",
    "\n",
    "# TODO: 부서별 이직의향도 계산하기\n",
    "dept_turnover = df_hr.groupby('부서')['이직의향'].mean()\n",
    "\n",
    "print(\"\\n🏢 부서별 이직의향\")\n",
    "print(dept_turnover.round(3))\n",
    "\n",
    "# TODO: for문으로 부서별 상세 분석 출력하기\n",
    "print(\"\\n📋 부서별 상세 분석\")\n",
    "for dept in df_hr['부서'].unique():\n",
    "    # TODO: 해당 부서 데이터만 필터링하기\n",
    "    dept_data = df_hr[df_hr['부서'] == dept]\n",
    "\n",
    "    satisfaction_avg = dept_data['만족도'].mean()\n",
    "    turnover_avg = dept_data['이직의향'].mean()\n",
    "\n",
    "    print(f\"{dept}부: 만족도 {satisfaction_avg:.1f}점, 이직의향 {turnover_avg:.1%}\")\n"
   ]
  },
  {
   "cell_type": "code",
   "execution_count": 31,
   "id": "7b3d1da4-522b-4c08-9e49-81e9c9f76885",
   "metadata": {},
   "outputs": [
    {
     "name": "stdout",
     "output_type": "stream",
     "text": [
      "생성된 더미 변수들:\n",
      "부서: ['부서_개발', '부서_마케팅', '부서_영업']\n",
      "직급: ['직급_과장', '직급_대리', '직급_부장']\n"
     ]
    }
   ],
   "source": [
    "# TODO: 부서를 더미 변수로 변환하기\n",
    "dept_dummies = pd.get_dummies(df_hr['부서'], prefix='부서')\n",
    "\n",
    "# TODO: 직급을 더미 변수로 변환하기\n",
    "rank_dummies = pd.get_dummies(df_hr['직급'], prefix='직급')\n",
    "\n",
    "# TODO: 기준 카테고리 제거하기 (다중공선성 방지)\n",
    "dept_dummies = dept_dummies.drop('부서_인사', axis=1)\n",
    "rank_dummies = rank_dummies.drop('직급_사원', axis=1)\n",
    "\n",
    "print(\"생성된 더미 변수들:\")\n",
    "print(\"부서:\", list(dept_dummies.columns))\n",
    "print(\"직급:\", list(rank_dummies.columns))\n"
   ]
  },
  {
   "cell_type": "code",
   "execution_count": 36,
   "id": "9e6ef59d-c3b2-4769-a45c-5e9d71e1fcb1",
   "metadata": {},
   "outputs": [
    {
     "name": "stdout",
     "output_type": "stream",
     "text": [
      "🔧 회귀분석 변수 구성\n",
      "독립변수 개수: 9개\n",
      "독립변수: ['연봉', '근무연수', '교육시간', '부서_개발', '부서_마케팅', '부서_영업', '직급_과장', '직급_대리', '직급_부장']\n",
      "종속변수: 만족도\n"
     ]
    }
   ],
   "source": [
    "from sklearn.linear_model import LinearRegression\n",
    "from sklearn.metrics import r2_score\n",
    "\n",
    "# TODO: 독립변수 데이터프레임 만들기\n",
    "X_vars = pd.concat([numeric_vars, dummy_vars], axis=1)\n",
    "# 힌트: df_hr[['연봉', '근무연수', '교육시간']]과 더미변수들을 합치세요\n",
    "\n",
    "# TODO: 종속변수 설정하기\n",
    "y_var = df_hr['만족도']\n",
    "\n",
    "print(\"🔧 회귀분석 변수 구성\")\n",
    "print(f\"독립변수 개수: {len(X_vars.columns)}개\")\n",
    "print(f\"독립변수: {list(X_vars.columns)}\")\n",
    "print(f\"종속변수: 만족도\")"
   ]
  },
  {
   "cell_type": "code",
   "execution_count": 37,
   "id": "50efc95b-8955-4aec-b428-22bdb1c31312",
   "metadata": {},
   "outputs": [
    {
     "name": "stdout",
     "output_type": "stream",
     "text": [
      "📊 다중회귀분석 결과\n",
      "R² (설명력): 0.800 (80.0%)\n"
     ]
    }
   ],
   "source": [
    "# TODO: 회귀모델 생성 및 학습하기\n",
    "model = LinearRegression()\n",
    "# model.fit() 사용하기\n",
    "model.fit(X_vars, y_var)\n",
    "\n",
    "# TODO: 예측값 계산하기\n",
    "y_pred = model.predict(X_vars)\n",
    "\n",
    "# TODO: R² 계산하기\n",
    "r2 = r2_score(y_var, y_pred)\n",
    "\n",
    "print(\"📊 다중회귀분석 결과\")\n",
    "print(f\"R² (설명력): {r2:.3f} ({r2*100:.1f}%)\")\n"
   ]
  },
  {
   "cell_type": "code",
   "execution_count": 38,
   "id": "d5a6eff3-f707-4398-bcc0-d1c84ada6703",
   "metadata": {},
   "outputs": [
    {
     "name": "stdout",
     "output_type": "stream",
     "text": [
      "🔍 회귀계수 분석 (영향력 순)\n",
      "      변수        계수       절댓값\n",
      "8  직급_부장  1.393631  1.393631\n",
      "6  직급_과장  0.764017  0.764017\n",
      "3  부서_개발  0.497000  0.497000\n",
      "5  부서_영업 -0.496424  0.496424\n",
      "7  직급_대리  0.325535  0.325535\n",
      "\n",
      "가장 영향력이 큰 변수: 직급_부장 (계수: 1.394)\n"
     ]
    }
   ],
   "source": [
    "# TODO: 회귀계수를 데이터프레임으로 정리하기\n",
    "coefficients = pd.DataFrame({\n",
    "    '변수': X_vars.columns,\n",
    "    '계수': model.coef_,\n",
    "    '절댓값': np.abs(model.coef_)\n",
    "})\n",
    "\n",
    "# TODO: 절댓값 기준으로 정렬하기\n",
    "coefficients = coefficients.sort_values('절댓값', ascending=False)\n",
    "\n",
    "print(\"🔍 회귀계수 분석 (영향력 순)\")\n",
    "print(coefficients.head(5))  # 상위 5개만 출력\n",
    "\n",
    "# TODO: 가장 영향력이 큰 변수 찾기\n",
    "most_important = coefficients.iloc[0]\n",
    "print(f\"\\n가장 영향력이 큰 변수: {most_important['변수']} (계수: {most_important['계수']:.3f})\")\n"
   ]
  },
  {
   "cell_type": "code",
   "execution_count": 39,
   "id": "5d3db941-8428-48d9-a36b-9677e9d855a4",
   "metadata": {},
   "outputs": [
    {
     "name": "stdout",
     "output_type": "stream",
     "text": [
      "📊 현재 이직 의향 현황\n",
      "이직 의향 있음: 51명 (20.4%)\n",
      "이직 의향 없음: 199명 (79.6%)\n"
     ]
    }
   ],
   "source": [
    "from sklearn.linear_model import LogisticRegression\n",
    "from sklearn.metrics import classification_report, confusion_matrix\n",
    "\n",
    "# TODO: 로지스틱 회귀용 독립변수와 종속변수 설정하기\n",
    "X_logistic = X_vars\n",
    "y_logistic = df_hr['이직의향']\n",
    "\n",
    "# TODO: 현재 이직 의향 현황 파악하기\n",
    "turnover_summary = df_hr['이직의향'].value_counts()\n",
    "turnover_rate = df_hr['이직의향'].mean()\n",
    "\n",
    "print(\"📊 현재 이직 의향 현황\")\n",
    "print(f\"이직 의향 있음: {turnover_summary[1]}명 ({turnover_rate:.1%})\")\n",
    "print(f\"이직 의향 없음: {turnover_summary[0]}명 ({1-turnover_rate:.1%})\")\n"
   ]
  },
  {
   "cell_type": "code",
   "execution_count": 40,
   "id": "de92649f-56f5-4ed7-b5b3-881b8b60d1e0",
   "metadata": {},
   "outputs": [
    {
     "name": "stdout",
     "output_type": "stream",
     "text": [
      "🤖 로지스틱 회귀 모델 성능\n",
      "정확도: 0.864\n"
     ]
    }
   ],
   "source": [
    "# TODO: 로지스틱 회귀 모델 생성하기\n",
    "logistic_model = LogisticRegression(random_state=42, max_iter=1000)\n",
    "\n",
    "# TODO: 모델 학습하기\n",
    "# logistic_model.fit() 사용\n",
    "logistic_model.fit(X_logistic, y_logistic)\n",
    "\n",
    "# TODO: 이직 확률 예측하기\n",
    "y_pred_proba = logistic_model.predict_proba(X_logistic)[:, 1]\n",
    "\n",
    "# TODO: 이직 여부 예측하기 (0 또는 1)\n",
    "y_pred_class = logistic_model.predict(X_logistic)\n",
    "\n",
    "# TODO: 정확도 계산하기\n",
    "accuracy = (y_pred_class == y_logistic).mean()\n",
    "\n",
    "print(\"🤖 로지스틱 회귀 모델 성능\")\n",
    "print(f\"정확도: {accuracy:.3f}\")\n"
   ]
  },
  {
   "cell_type": "code",
   "execution_count": 41,
   "id": "a5884cfa-a155-4d43-afc1-891f09a8415e",
   "metadata": {},
   "outputs": [
    {
     "name": "stdout",
     "output_type": "stream",
     "text": [
      "📋 혼동 행렬\n",
      "실제 → 예측    이직안함  이직함\n",
      "이직 안함        193      6\n",
      "이직 함           28     23\n",
      "\n",
      "정밀도: 0.793\n",
      "재현율: 0.451\n"
     ]
    }
   ],
   "source": [
    "# TODO: 혼동 행렬 계산하기\n",
    "cm = confusion_matrix(y_logistic, y_pred_class)\n",
    "\n",
    "print(\"📋 혼동 행렬\")\n",
    "print(\"실제 → 예측    이직안함  이직함\")\n",
    "print(f\"이직 안함        {cm[0,0]:3d}    {cm[0,1]:3d}\")\n",
    "print(f\"이직 함          {cm[1,0]:3d}    {cm[1,1]:3d}\")\n",
    "\n",
    "# TODO: 정밀도와 재현율 계산하기\n",
    "# 정밀도 = TP / (TP + FP)\n",
    "precision = cm[1,1] / (cm[1,1] + cm[0,1]) if (cm[1,1] + cm[0,1]) > 0 else 0\n",
    "\n",
    "# 재현율 = TP / (TP + FN)\n",
    "recall = cm[1,1] / (cm[1,1] + cm[1,0]) if (cm[1,1] + cm[1,0]) > 0 else 0\n",
    "\n",
    "print(f\"\\n정밀도: {precision:.3f}\")\n",
    "print(f\"재현율: {recall:.3f}\")\n"
   ]
  },
  {
   "cell_type": "code",
   "execution_count": 42,
   "id": "596e7edb-df59-489d-b414-d325939fae9d",
   "metadata": {},
   "outputs": [
    {
     "name": "stdout",
     "output_type": "stream",
     "text": [
      "🎯 이직 위험 요인 분석 (상위 5개)\n",
      "      변수        계수       오즈비      위험도변화\n",
      "6  직급_과장 -0.981356  0.374803 -62.519741\n",
      "8  직급_부장 -0.961496  0.382321 -61.767946\n",
      "5  부서_영업  0.480365  1.616664  61.666393\n",
      "3  부서_개발 -0.623779  0.535915 -46.408471\n",
      "7  직급_대리 -0.598151  0.549827 -45.017286\n"
     ]
    }
   ],
   "source": [
    "# TODO: 오즈비 계산하기\n",
    "# 힌트: 오즈비 = exp(회귀계수)\n",
    "odds_ratios = np.exp(logistic_model.coef_[0])\n",
    "\n",
    "# TODO: 오즈비 분석 데이터프레임 만들기\n",
    "odds_analysis = pd.DataFrame({\n",
    "    '변수':  X_logistic.columns,\n",
    "    '계수':  logistic_model.coef_[0],\n",
    "    '오즈비':  odds_ratios,\n",
    "    '위험도변화':  [(or_val - 1) * 100 for or_val in odds_ratios]\n",
    "})\n",
    "\n",
    "# TODO: 위험도 변화가 큰 순으로 정렬하기\n",
    "odds_analysis = odds_analysis.reindex(\n",
    "    odds_analysis['위험도변화'].abs().sort_values(ascending=False).index\n",
    ")\n",
    "\n",
    "print(\"🎯 이직 위험 요인 분석 (상위 5개)\")\n",
    "print(odds_analysis.head())\n"
   ]
  },
  {
   "cell_type": "code",
   "execution_count": 43,
   "id": "13764202-97f8-4e81-bf7e-d38363db06f6",
   "metadata": {},
   "outputs": [
    {
     "name": "stdout",
     "output_type": "stream",
     "text": [
      "🎯 이직 고위험군 식별\n",
      "이직 확률 70% 이상 직원: 10명\n",
      "고위험군 특징:\n",
      "• 평균 만족도: 3.6점\n",
      "• 평균 연봉: 3만원\n"
     ]
    }
   ],
   "source": [
    "# TODO: 고위험군 기준 설정하기 (70% 이상)\n",
    "high_risk_threshold = 0.7\n",
    "\n",
    "# TODO: 고위험군 직원 필터링하기\n",
    "high_risk_mask = y_pred_proba > high_risk_threshold\n",
    "high_risk_employees = df_hr[high_risk_mask]\n",
    "\n",
    "print(f\"🎯 이직 고위험군 식별\")\n",
    "print(f\"이직 확률 {high_risk_threshold:.0%} 이상 직원: {len(high_risk_employees)}명\")\n",
    "\n",
    "if len(high_risk_employees) > 0:\n",
    "    print(\"고위험군 특징:\")\n",
    "    # TODO: 고위험군의 평균 만족도 계산하기\n",
    "    avg_satisfaction = high_risk_employees['만족도'].mean()\n",
    "\n",
    "    # TODO: 고위험군의 평균 연봉 계산하기\n",
    "    avg_salary = high_risk_employees['연봉'].mean()\n",
    "\n",
    "    print(f\"• 평균 만족도: {avg_satisfaction:.1f}점\")\n",
    "    print(f\"• 평균 연봉: {avg_salary/10000:.0f}만원\")\n"
   ]
  },
  {
   "cell_type": "code",
   "execution_count": 44,
   "id": "1a3c12b9-6315-4886-ac43-5e747cc20609",
   "metadata": {},
   "outputs": [
    {
     "name": "stdout",
     "output_type": "stream",
     "text": [
      "📋 CEO 보고서: 직원 만족도 및 이직 방지 전략\n",
      "============================================================\n",
      "\n",
      "📊 현황 요약\n",
      "• 전체 직원 만족도: 7.5/10점\n",
      "• 현재 이직 의향률: 20.4%\n",
      "• 고위험군: 10명\n",
      "\n",
      "🏢 부서별 위험도 분석\n",
      "🟡 인사부: 이직률 27.8% (위험도: 보통)\n",
      "🟡 영업부: 이직률 27.6% (위험도: 보통)\n",
      "🟡 마케팅부: 이직률 20.8% (위험도: 보통)\n",
      "🟢 개발부: 이직률 13.9% (위험도: 낮음)\n",
      "\n",
      "💡 핵심 발견사항\n",
      "1️⃣ 만족도에 가장 큰 영향: 직급_부장\n",
      "\n",
      "🎯 권장 액션 플랜\n",
      "🚨 즉시 조치 필요: 인사부 집중 관리\n",
      "💰 투자 우선순위: 만족도 개선 프로그램\n",
      "📊 모니터링: 월별 만족도 조사 실시\n"
     ]
    }
   ],
   "source": [
    "print(\"📋 CEO 보고서: 직원 만족도 및 이직 방지 전략\")\n",
    "print(\"=\" * 60)\n",
    "\n",
    "# TODO: 현황 요약 작성하기\n",
    "print(\"\\n📊 현황 요약\")\n",
    "print(f\"• 전체 직원 만족도: {df_hr['만족도'].mean():.1f}/10점\")\n",
    "print(f\"• 현재 이직 의향률: {df_hr['이직의향'].mean():.1%}\")\n",
    "print(f\"• 고위험군: {len(high_risk_employees)}명\")\n",
    "\n",
    "# TODO: 부서별 위험도 분석하기\n",
    "print(\"\\n🏢 부서별 위험도 분석\")\n",
    "dept_risk = df_hr.groupby('부서')['이직의향'].mean().sort_values(ascending=False)\n",
    "\n",
    "for dept, risk in dept_risk.items():\n",
    "    if risk > 0.3:  # 30% 이상이면 높은 위험\n",
    "        emoji = \"🔴\"\n",
    "        level = \"높음\"\n",
    "    elif risk > 0.15:  # 15% 이상이면 보통\n",
    "        emoji = \"🟡\"\n",
    "        level = \"보통\"\n",
    "    else:\n",
    "        emoji = \"🟢\"\n",
    "        level = \"낮음\"\n",
    "\n",
    "    print(f\"{emoji} {dept}부: 이직률 {risk:.1%} (위험도: {level})\")\n",
    "\n",
    "# TODO: 핵심 발견사항 정리하기\n",
    "print(f\"\\n💡 핵심 발견사항\")\n",
    "most_important_factor = coefficients.iloc[0]\n",
    "print(f\"1️⃣ 만족도에 가장 큰 영향: {most_important_factor['변수']}\")\n",
    "\n",
    "# TODO: 권장 액션 플랜 작성하기\n",
    "print(f\"\\n🎯 권장 액션 플랜\")\n",
    "highest_risk_dept = dept_risk.index[0]  # 가장 위험한 부서\n",
    "print(f\"🚨 즉시 조치 필요: {highest_risk_dept}부 집중 관리\")\n",
    "print(f\"💰 투자 우선순위: 만족도 개선 프로그램\")\n",
    "print(f\"📊 모니터링: 월별 만족도 조사 실시\")\n"
   ]
  },
  {
   "cell_type": "code",
   "execution_count": null,
   "id": "b7342812-d510-4f7f-94ab-7a8787c64131",
   "metadata": {},
   "outputs": [],
   "source": []
  },
  {
   "cell_type": "code",
   "execution_count": null,
   "id": "9fb9f4b6-872c-4782-8908-a6c7ce8be405",
   "metadata": {},
   "outputs": [],
   "source": []
  },
  {
   "cell_type": "code",
   "execution_count": null,
   "id": "ed0c4d30-fe24-4f42-8da3-64f333cbf798",
   "metadata": {},
   "outputs": [],
   "source": []
  },
  {
   "cell_type": "code",
   "execution_count": null,
   "id": "f60a0cac-9ac0-4bf4-a6a0-6bcf425f37e5",
   "metadata": {},
   "outputs": [],
   "source": []
  },
  {
   "cell_type": "code",
   "execution_count": null,
   "id": "df53608d-e3a3-4be9-bc23-32dc3009e5e1",
   "metadata": {},
   "outputs": [],
   "source": []
  },
  {
   "cell_type": "code",
   "execution_count": null,
   "id": "63220e8d-3bb5-4ab5-99d5-5fb8dac17fbb",
   "metadata": {},
   "outputs": [],
   "source": []
  }
 ],
 "metadata": {
  "kernelspec": {
   "display_name": "Python 3 (ipykernel)",
   "language": "python",
   "name": "python3"
  },
  "language_info": {
   "codemirror_mode": {
    "name": "ipython",
    "version": 3
   },
   "file_extension": ".py",
   "mimetype": "text/x-python",
   "name": "python",
   "nbconvert_exporter": "python",
   "pygments_lexer": "ipython3",
   "version": "3.12.7"
  }
 },
 "nbformat": 4,
 "nbformat_minor": 5
}
